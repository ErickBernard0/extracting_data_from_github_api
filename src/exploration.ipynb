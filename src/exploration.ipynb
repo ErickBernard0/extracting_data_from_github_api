{
 "cells": [
  {
   "cell_type": "code",
   "execution_count": 29,
   "metadata": {},
   "outputs": [],
   "source": [
    "# PACOTES\n",
    "\n",
    "import pandas as pd\n",
    "import requests\n",
    "import os\n",
    "import json\n",
    "import re\n",
    "from dotenv import load_dotenv"
   ]
  },
  {
   "cell_type": "code",
   "execution_count": 30,
   "metadata": {},
   "outputs": [],
   "source": [
    "# PARÂMETROS\n",
    "\n",
    "load_dotenv(override=True)\n",
    "access_token = os.getenv(\"access_token\")\n",
    "headers = {'X-GitHub-Api-Version': '2022-11-28','Authorizarion': 'Baerer' + access_token}\n",
    "owner = 'amzn'\n",
    "url = 'https://api.github.com'\n",
    "url_formatted = f'{url}/users/{owner}/repos'"
   ]
  },
  {
   "cell_type": "code",
   "execution_count": 31,
   "metadata": {},
   "outputs": [
    {
     "name": "stdout",
     "output_type": "stream",
     "text": [
      "success\n"
     ]
    }
   ],
   "source": [
    "# EXTRAÇÃO\n",
    "\n",
    "response = requests.get(url_formatted, headers=headers)\n",
    "\n",
    "if response.status_code:\n",
    "    print('success')\n",
    "else:\n",
    "    print('error')"
   ]
  },
  {
   "cell_type": "code",
   "execution_count": 32,
   "metadata": {},
   "outputs": [
    {
     "name": "stdout",
     "output_type": "stream",
     "text": [
      "6\n"
     ]
    }
   ],
   "source": [
    "# PAGINAÇÃO\n",
    "\n",
    "if response.status_code == 200:\n",
    "    link_header = response.headers.get('Link')\n",
    "    if link_header:\n",
    "        links = link_header.split(',')\n",
    "        last_url = None\n",
    "        for link in links:\n",
    "            if 'rel=\"last\"' in link:\n",
    "                last_url = link.split(';')[0].strip('<>')\n",
    "                break\n",
    "\n",
    "if last_url:\n",
    "    match = re.search(r'page=(\\d+)', last_url)\n",
    "    if match:\n",
    "        last_page = match.group(1)\n",
    "        last_page = int(last_page)\n",
    "\n",
    "print(last_page)"
   ]
  },
  {
   "cell_type": "code",
   "execution_count": 33,
   "metadata": {},
   "outputs": [],
   "source": [
    "# EXTRAÇÃO GERAL\n",
    "\n",
    "repos_list = []\n",
    "\n",
    "for page_num in range(1,last_page+1):\n",
    "    try:\n",
    "        url_page = f'{url_formatted}?page={page_num}'\n",
    "        response = requests.get(url_page, headers=headers)\n",
    "        repos_list.append(response.json())\n",
    "    except:\n",
    "        repos_list.append(None)"
   ]
  },
  {
   "cell_type": "code",
   "execution_count": 34,
   "metadata": {},
   "outputs": [
    {
     "data": {
      "text/plain": [
       "[None, 'Jupyter Notebook', 'Smarty', 'JavaScript', None]"
      ]
     },
     "execution_count": 34,
     "metadata": {},
     "output_type": "execute_result"
    }
   ],
   "source": [
    "# EXTRAÇÃO DAS LINGUAGENS\n",
    "\n",
    "repos_languages = []\n",
    "\n",
    "for page in repos_list:\n",
    "    for repo in page:\n",
    "        repos_languages.append(repo['language'])\n",
    "\n",
    "repos_languages[:5]"
   ]
  }
 ],
 "metadata": {
  "kernelspec": {
   "display_name": "venv",
   "language": "python",
   "name": "python3"
  },
  "language_info": {
   "codemirror_mode": {
    "name": "ipython",
    "version": 3
   },
   "file_extension": ".py",
   "mimetype": "text/x-python",
   "name": "python",
   "nbconvert_exporter": "python",
   "pygments_lexer": "ipython3",
   "version": "3.12.1"
  }
 },
 "nbformat": 4,
 "nbformat_minor": 2
}
