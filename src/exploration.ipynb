{
 "cells": [
  {
   "cell_type": "code",
   "execution_count": 19,
   "metadata": {},
   "outputs": [],
   "source": [
    "# PACOTES\n",
    "\n",
    "import pandas as pd\n",
    "import requests\n",
    "import os\n",
    "import json\n",
    "import re\n",
    "from dotenv import load_dotenv"
   ]
  },
  {
   "cell_type": "code",
   "execution_count": 20,
   "metadata": {},
   "outputs": [],
   "source": [
    "# PARÂMETROS\n",
    "\n",
    "load_dotenv(override=True)\n",
    "access_token = os.getenv(\"access_token\")\n",
    "headers = {'X-GitHub-Api-Version': '2022-11-28','Authorization': 'Bearer' + access_token}\n",
    "owner = 'amzn'\n",
    "url = 'https://api.github.com'\n",
    "url_formatted = f'{url}/users/{owner}/repos'\n",
    "save_data = r'..\\data\\repos_data.csv'"
   ]
  },
  {
   "cell_type": "code",
   "execution_count": 21,
   "metadata": {},
   "outputs": [
    {
     "name": "stdout",
     "output_type": "stream",
     "text": [
      "success\n"
     ]
    }
   ],
   "source": [
    "# REQUISIÇÃO\n",
    "\n",
    "response = requests.get(url_formatted, headers=headers)\n",
    "\n",
    "if response.status_code:\n",
    "    print('success')\n",
    "else:\n",
    "    print('error')"
   ]
  },
  {
   "cell_type": "code",
   "execution_count": 22,
   "metadata": {},
   "outputs": [
    {
     "name": "stdout",
     "output_type": "stream",
     "text": [
      "6\n"
     ]
    }
   ],
   "source": [
    "# PAGINAÇÃO\n",
    "\n",
    "if response.status_code == 200:\n",
    "    link_header = response.headers.get('Link')\n",
    "    if link_header:\n",
    "        links = link_header.split(',')\n",
    "        last_url = None\n",
    "        for link in links:\n",
    "            if 'rel=\"last\"' in link:\n",
    "                last_url = link.split(';')[0].strip('<>')\n",
    "                break\n",
    "\n",
    "if last_url:\n",
    "    match = re.search(r'page=(\\d+)', last_url)\n",
    "    if match:\n",
    "        last_page = match.group(1)\n",
    "        last_page = int(last_page)\n",
    "\n",
    "print(last_page)"
   ]
  },
  {
   "cell_type": "code",
   "execution_count": 23,
   "metadata": {},
   "outputs": [],
   "source": [
    "# EXTRAÇÃO GERAL\n",
    "\n",
    "repos_list = []\n",
    "\n",
    "for page_num in range(1,last_page+1):\n",
    "    try:\n",
    "        url_page = f'{url_formatted}?page={page_num}'\n",
    "        response = requests.get(url_page, headers=headers)\n",
    "        repos_list.append(response.json())\n",
    "    except:\n",
    "        repos_list.append(None)"
   ]
  },
  {
   "cell_type": "code",
   "execution_count": 24,
   "metadata": {},
   "outputs": [],
   "source": [
    "# EXTRAÇÃO DAS INFORMAÇÕES\n",
    "\n",
    "repos_name = []\n",
    "repos_description = []\n",
    "repos_language = []\n",
    "repos_created_at = []\n",
    "repos_updated_at = []\n",
    "\n",
    "for page in repos_list:\n",
    "    for repo in page:        \n",
    "        repos_name.append(repo['name'])\n",
    "        repos_description.append(repo['description'])\n",
    "        repos_language.append(repo['language'])\n",
    "        repos_created_at.append(repo['created_at'])\n",
    "        repos_updated_at.append(repo['updated_at'])"
   ]
  },
  {
   "cell_type": "code",
   "execution_count": 25,
   "metadata": {},
   "outputs": [],
   "source": [
    "# CRIANDO DATAFRAME\n",
    "\n",
    "df_repos = pd.DataFrame()\n",
    "df_repos['repo_name'] = repos_name\n",
    "df_repos['repo_description'] = repos_description\n",
    "df_repos['repo_language'] = repos_language\n",
    "df_repos['repo_created_at'] = repos_created_at\n",
    "df_repos['repos_updated_at'] = repos_updated_at"
   ]
  },
  {
   "cell_type": "code",
   "execution_count": 26,
   "metadata": {},
   "outputs": [
    {
     "data": {
      "text/html": [
       "<div>\n",
       "<style scoped>\n",
       "    .dataframe tbody tr th:only-of-type {\n",
       "        vertical-align: middle;\n",
       "    }\n",
       "\n",
       "    .dataframe tbody tr th {\n",
       "        vertical-align: top;\n",
       "    }\n",
       "\n",
       "    .dataframe thead th {\n",
       "        text-align: right;\n",
       "    }\n",
       "</style>\n",
       "<table border=\"1\" class=\"dataframe\">\n",
       "  <thead>\n",
       "    <tr style=\"text-align: right;\">\n",
       "      <th></th>\n",
       "      <th>repo_name</th>\n",
       "      <th>repo_description</th>\n",
       "      <th>repo_language</th>\n",
       "      <th>repo_created_at</th>\n",
       "      <th>repos_updated_at</th>\n",
       "    </tr>\n",
       "  </thead>\n",
       "  <tbody>\n",
       "    <tr>\n",
       "      <th>0</th>\n",
       "      <td>.github</td>\n",
       "      <td>None</td>\n",
       "      <td>None</td>\n",
       "      <td>2019-02-18T18:59:22Z</td>\n",
       "      <td>2024-10-07T21:33:10Z</td>\n",
       "    </tr>\n",
       "    <tr>\n",
       "      <th>1</th>\n",
       "      <td>ads-advanced-tools-docs</td>\n",
       "      <td>Code samples and supplements for the Amazon Ad...</td>\n",
       "      <td>Jupyter Notebook</td>\n",
       "      <td>2022-05-16T19:49:03Z</td>\n",
       "      <td>2024-10-09T07:27:26Z</td>\n",
       "    </tr>\n",
       "    <tr>\n",
       "      <th>2</th>\n",
       "      <td>ads-pao-amznjs-gtm-template</td>\n",
       "      <td>None</td>\n",
       "      <td>Smarty</td>\n",
       "      <td>2023-08-02T23:41:56Z</td>\n",
       "      <td>2024-09-05T08:32:25Z</td>\n",
       "    </tr>\n",
       "    <tr>\n",
       "      <th>3</th>\n",
       "      <td>alexa-coho</td>\n",
       "      <td>Sample code for building skill adapters for Al...</td>\n",
       "      <td>JavaScript</td>\n",
       "      <td>2015-08-20T20:42:31Z</td>\n",
       "      <td>2024-07-11T01:03:40Z</td>\n",
       "    </tr>\n",
       "    <tr>\n",
       "      <th>4</th>\n",
       "      <td>alexa-skills-kit-js</td>\n",
       "      <td>SDK and example code for building voice-enabl...</td>\n",
       "      <td>None</td>\n",
       "      <td>2015-07-21T21:46:48Z</td>\n",
       "      <td>2024-08-04T00:31:19Z</td>\n",
       "    </tr>\n",
       "  </tbody>\n",
       "</table>\n",
       "</div>"
      ],
      "text/plain": [
       "                     repo_name  \\\n",
       "0                      .github   \n",
       "1      ads-advanced-tools-docs   \n",
       "2  ads-pao-amznjs-gtm-template   \n",
       "3                   alexa-coho   \n",
       "4          alexa-skills-kit-js   \n",
       "\n",
       "                                    repo_description     repo_language  \\\n",
       "0                                               None              None   \n",
       "1  Code samples and supplements for the Amazon Ad...  Jupyter Notebook   \n",
       "2                                               None            Smarty   \n",
       "3  Sample code for building skill adapters for Al...        JavaScript   \n",
       "4   SDK and example code for building voice-enabl...              None   \n",
       "\n",
       "        repo_created_at      repos_updated_at  \n",
       "0  2019-02-18T18:59:22Z  2024-10-07T21:33:10Z  \n",
       "1  2022-05-16T19:49:03Z  2024-10-09T07:27:26Z  \n",
       "2  2023-08-02T23:41:56Z  2024-09-05T08:32:25Z  \n",
       "3  2015-08-20T20:42:31Z  2024-07-11T01:03:40Z  \n",
       "4  2015-07-21T21:46:48Z  2024-08-04T00:31:19Z  "
      ]
     },
     "execution_count": 26,
     "metadata": {},
     "output_type": "execute_result"
    }
   ],
   "source": [
    "# CHECANDO DADOS\n",
    "\n",
    "df_repos.head()"
   ]
  },
  {
   "cell_type": "code",
   "execution_count": 27,
   "metadata": {},
   "outputs": [],
   "source": [
    "# SALVANDO ARQUIVO\n",
    "\n",
    "df_repos.to_csv(save_data, index=False)"
   ]
  }
 ],
 "metadata": {
  "kernelspec": {
   "display_name": "venv",
   "language": "python",
   "name": "python3"
  },
  "language_info": {
   "codemirror_mode": {
    "name": "ipython",
    "version": 3
   },
   "file_extension": ".py",
   "mimetype": "text/x-python",
   "name": "python",
   "nbconvert_exporter": "python",
   "pygments_lexer": "ipython3",
   "version": "3.12.1"
  }
 },
 "nbformat": 4,
 "nbformat_minor": 2
}
